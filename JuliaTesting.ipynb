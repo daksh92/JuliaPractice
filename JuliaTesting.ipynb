{
 "cells": [
  {
   "cell_type": "code",
   "execution_count": 1,
   "id": "d1fcac4b",
   "metadata": {},
   "outputs": [
    {
     "name": "stdout",
     "output_type": "stream",
     "text": [
      "I am excited to learn Julia\n"
     ]
    }
   ],
   "source": [
    "println(\"I am excited to learn Julia\")"
   ]
  },
  {
   "cell_type": "code",
   "execution_count": 2,
   "id": "c413d0a6",
   "metadata": {},
   "outputs": [
    {
     "data": {
      "text/plain": [
       "String"
      ]
     },
     "execution_count": 2,
     "metadata": {},
     "output_type": "execute_result"
    }
   ],
   "source": [
    "my_name=\"Daksh\"\n",
    "typeof(my_name)"
   ]
  },
  {
   "cell_type": "code",
   "execution_count": 3,
   "id": "424e52ce",
   "metadata": {},
   "outputs": [],
   "source": [
    "#Single line comment\n",
    "#=\n",
    "multiple line comment\n",
    "=#"
   ]
  },
  {
   "cell_type": "code",
   "execution_count": 1,
   "id": "6ef4b666",
   "metadata": {},
   "outputs": [
    {
     "data": {
      "text/plain": [
       "1"
      ]
     },
     "execution_count": 1,
     "metadata": {},
     "output_type": "execute_result"
    }
   ],
   "source": [
    "modulus = 101%2"
   ]
  },
  {
   "cell_type": "code",
   "execution_count": 2,
   "id": "27336880",
   "metadata": {},
   "outputs": [
    {
     "data": {
      "text/plain": [
       "10"
      ]
     },
     "execution_count": 2,
     "metadata": {},
     "output_type": "execute_result"
    }
   ],
   "source": [
    "my_name = \"Daksh\"\n",
    "my_digits= 10\n",
    "my_toes= 10\n"
   ]
  },
  {
   "cell_type": "code",
   "execution_count": 4,
   "id": "194dd5ba",
   "metadata": {},
   "outputs": [
    {
     "name": "stdout",
     "output_type": "stream",
     "text": [
      "My name is Daksh. I have 10 fingers and 10 toes\n"
     ]
    }
   ],
   "source": [
    "println(\"My name is $my_name. I have $my_digits fingers and $my_toes toes\")"
   ]
  },
  {
   "cell_type": "markdown",
   "id": "863e8572",
   "metadata": {},
   "source": [
    "String Concatenation"
   ]
  },
  {
   "cell_type": "code",
   "execution_count": 6,
   "id": "a60244aa",
   "metadata": {},
   "outputs": [
    {
     "data": {
      "text/plain": [
       "\"How many cats are too many cats?\""
      ]
     },
     "execution_count": 6,
     "metadata": {},
     "output_type": "execute_result"
    }
   ],
   "source": [
    "string(\"How many cats are \",\"too many cats?\")"
   ]
  },
  {
   "cell_type": "code",
   "execution_count": 8,
   "id": "27261670",
   "metadata": {},
   "outputs": [
    {
     "data": {
      "text/plain": [
       "\"How many cats are too many?\""
      ]
     },
     "execution_count": 8,
     "metadata": {},
     "output_type": "execute_result"
    }
   ],
   "source": [
    "s3 = \"How many cats\"\n",
    "s4 = \" are too many?\"\n",
    "\n",
    "s3*s4"
   ]
  },
  {
   "cell_type": "code",
   "execution_count": 9,
   "id": "74b32f5a",
   "metadata": {
    "scrolled": true
   },
   "outputs": [
    {
     "data": {
      "text/plain": [
       "\"How many cats are too many?\""
      ]
     },
     "execution_count": 9,
     "metadata": {},
     "output_type": "execute_result"
    }
   ],
   "source": [
    "\"$s3$s4\""
   ]
  },
  {
   "cell_type": "markdown",
   "id": "7a07c3fd",
   "metadata": {},
   "source": [
    "Dictionaries"
   ]
  },
  {
   "cell_type": "code",
   "execution_count": 10,
   "id": "d0679f42",
   "metadata": {},
   "outputs": [
    {
     "data": {
      "text/plain": [
       "Dict{String, String} with 2 entries:\n",
       "  \"Daksh\"  => \"9810-216-489\"\n",
       "  \"Shreya\" => \"7303-129-555\""
      ]
     },
     "execution_count": 10,
     "metadata": {},
     "output_type": "execute_result"
    }
   ],
   "source": [
    "myphonebook = Dict(\"Daksh\"=>\"9810-216-489\",\"Shreya\"=>\"7303-129-555\")"
   ]
  },
  {
   "cell_type": "code",
   "execution_count": 12,
   "id": "b0d9b4e4",
   "metadata": {},
   "outputs": [
    {
     "data": {
      "text/plain": [
       "\"9868-717-272\""
      ]
     },
     "execution_count": 12,
     "metadata": {},
     "output_type": "execute_result"
    }
   ],
   "source": [
    "myphonebook[\"Papa\"]=\"9868-717-272\""
   ]
  },
  {
   "cell_type": "code",
   "execution_count": 13,
   "id": "0337b935",
   "metadata": {},
   "outputs": [
    {
     "data": {
      "text/plain": [
       "Dict{String, String} with 3 entries:\n",
       "  \"Daksh\"  => \"9810-216-489\"\n",
       "  \"Shreya\" => \"7303-129-555\"\n",
       "  \"Papa\"   => \"9868-717-272\""
      ]
     },
     "execution_count": 13,
     "metadata": {},
     "output_type": "execute_result"
    }
   ],
   "source": [
    "myphonebook"
   ]
  },
  {
   "cell_type": "markdown",
   "id": "ae266da3",
   "metadata": {},
   "source": [
    "to delete an entry"
   ]
  },
  {
   "cell_type": "code",
   "execution_count": 14,
   "id": "ccea9a31",
   "metadata": {},
   "outputs": [
    {
     "data": {
      "text/plain": [
       "\"9810-216-489\""
      ]
     },
     "execution_count": 14,
     "metadata": {},
     "output_type": "execute_result"
    }
   ],
   "source": [
    "pop!(myphonebook,\"Daksh\")"
   ]
  },
  {
   "cell_type": "code",
   "execution_count": 15,
   "id": "805db166",
   "metadata": {},
   "outputs": [
    {
     "data": {
      "text/plain": [
       "Dict{String, String} with 2 entries:\n",
       "  \"Shreya\" => \"7303-129-555\"\n",
       "  \"Papa\"   => \"9868-717-272\""
      ]
     },
     "execution_count": 15,
     "metadata": {},
     "output_type": "execute_result"
    }
   ],
   "source": [
    "myphonebook"
   ]
  },
  {
   "cell_type": "markdown",
   "id": "c23ccca3",
   "metadata": {},
   "source": [
    "Tuple - Can be indexed"
   ]
  },
  {
   "cell_type": "code",
   "execution_count": 16,
   "id": "1a6d5dd7",
   "metadata": {},
   "outputs": [
    {
     "data": {
      "text/plain": [
       "(\"Shreya\", \"Cats\", \"monkeys\")"
      ]
     },
     "execution_count": 16,
     "metadata": {},
     "output_type": "execute_result"
    }
   ],
   "source": [
    "myfavoriteanimals = (\"Shreya\",\"Cats\",\"monkeys\")"
   ]
  },
  {
   "cell_type": "code",
   "execution_count": 17,
   "id": "9af0610a",
   "metadata": {},
   "outputs": [
    {
     "data": {
      "text/plain": [
       "\"Shreya\""
      ]
     },
     "execution_count": 17,
     "metadata": {},
     "output_type": "execute_result"
    }
   ],
   "source": [
    "myfavoriteanimals[1]"
   ]
  },
  {
   "cell_type": "markdown",
   "id": "7fd4b243",
   "metadata": {},
   "source": [
    "but tuples are immutable -> We can't update it"
   ]
  },
  {
   "cell_type": "markdown",
   "id": "7947b001",
   "metadata": {},
   "source": [
    "Array"
   ]
  },
  {
   "cell_type": "code",
   "execution_count": 18,
   "id": "4e67c5ce",
   "metadata": {},
   "outputs": [
    {
     "data": {
      "text/plain": [
       "7-element Vector{Int64}:\n",
       "  1\n",
       "  1\n",
       "  2\n",
       "  3\n",
       "  5\n",
       "  8\n",
       " 13"
      ]
     },
     "execution_count": 18,
     "metadata": {},
     "output_type": "execute_result"
    }
   ],
   "source": [
    "fibonacci =[1,1,2,3,5,8,13]"
   ]
  },
  {
   "cell_type": "code",
   "execution_count": 19,
   "id": "6a8d282e",
   "metadata": {},
   "outputs": [
    {
     "data": {
      "text/plain": [
       "8-element Vector{Int64}:\n",
       "  1\n",
       "  1\n",
       "  2\n",
       "  3\n",
       "  5\n",
       "  8\n",
       " 13\n",
       " 21"
      ]
     },
     "execution_count": 19,
     "metadata": {},
     "output_type": "execute_result"
    }
   ],
   "source": [
    "push!(fibonacci,21)"
   ]
  },
  {
   "cell_type": "code",
   "execution_count": 21,
   "id": "6a6d91c0",
   "metadata": {},
   "outputs": [
    {
     "data": {
      "text/plain": [
       "21"
      ]
     },
     "execution_count": 21,
     "metadata": {},
     "output_type": "execute_result"
    }
   ],
   "source": [
    "pop!(fibonacci)"
   ]
  },
  {
   "cell_type": "markdown",
   "id": "4ff787f5",
   "metadata": {},
   "source": [
    "Loops"
   ]
  },
  {
   "cell_type": "markdown",
   "id": "52564c5b",
   "metadata": {},
   "source": [
    "while & for loops"
   ]
  },
  {
   "cell_type": "raw",
   "id": "e094ffaf",
   "metadata": {},
   "source": [
    "while *condition*\n",
    "    *loop body*\n",
    "end"
   ]
  },
  {
   "cell_type": "code",
   "execution_count": 28,
   "id": "fa589dae",
   "metadata": {},
   "outputs": [
    {
     "name": "stdout",
     "output_type": "stream",
     "text": [
      "1\n",
      "2\n",
      "3\n",
      "4\n",
      "5\n",
      "6\n",
      "7\n",
      "8\n",
      "9\n",
      "10\n"
     ]
    }
   ],
   "source": [
    "n=0\n",
    "while n<10\n",
    "    n+=1\n",
    "    println(n)\n",
    "end\n"
   ]
  },
  {
   "cell_type": "code",
   "execution_count": 27,
   "id": "354e81a4",
   "metadata": {},
   "outputs": [
    {
     "name": "stdout",
     "output_type": "stream",
     "text": [
      "Hi Ted, it is great to see you.\n",
      "Hi Robyn, it is great to see you.\n",
      "Hi Barney, it is great to see you.\n",
      "Hi Marshal, it is great to see you.\n",
      "Hi Lily, it is great to see you.\n"
     ]
    }
   ],
   "source": [
    "myfriend = [\"Ted\",\"Robyn\",\"Barney\",\"Marshal\",\"Lily\"]\n",
    "i=1\n",
    "while i<=length(myfriend)\n",
    "    friend = myfriend[i]\n",
    "    println(\"Hi $friend, it is great to see you.\")\n",
    "    i+=1\n",
    "end"
   ]
  },
  {
   "cell_type": "markdown",
   "id": "c0ba3946",
   "metadata": {},
   "source": [
    "For Loops"
   ]
  },
  {
   "cell_type": "raw",
   "id": "6462016e",
   "metadata": {},
   "source": [
    "#= \n",
    "for *var* in *iterable loop*\n",
    "    *loop body*\n",
    "end\n",
    "=#"
   ]
  },
  {
   "cell_type": "code",
   "execution_count": 29,
   "id": "5d14ff55",
   "metadata": {},
   "outputs": [
    {
     "name": "stdout",
     "output_type": "stream",
     "text": [
      "Hi Ted, it is great to see you\n",
      "Hi Robyn, it is great to see you\n",
      "Hi Barney, it is great to see you\n",
      "Hi Marshal, it is great to see you\n",
      "Hi Lily, it is great to see you\n"
     ]
    }
   ],
   "source": [
    "for friend in myfriend\n",
    "    println(\"Hi $friend, it is great to see you\")\n",
    "end"
   ]
  },
  {
   "cell_type": "markdown",
   "id": "a353aa0e",
   "metadata": {},
   "source": [
    "Create a new table using for loop"
   ]
  },
  {
   "cell_type": "code",
   "execution_count": 31,
   "id": "d4c1c6d0",
   "metadata": {},
   "outputs": [
    {
     "data": {
      "text/plain": [
       "5×5 Matrix{Float64}:\n",
       " 0.0  0.0  0.0  0.0  0.0\n",
       " 0.0  0.0  0.0  0.0  0.0\n",
       " 0.0  0.0  0.0  0.0  0.0\n",
       " 0.0  0.0  0.0  0.0  0.0\n",
       " 0.0  0.0  0.0  0.0  0.0"
      ]
     },
     "execution_count": 31,
     "metadata": {},
     "output_type": "execute_result"
    }
   ],
   "source": [
    "m,n = 5,5\n",
    "A = zeros(m,n)"
   ]
  },
  {
   "cell_type": "code",
   "execution_count": 32,
   "id": "5bec5e75",
   "metadata": {},
   "outputs": [
    {
     "data": {
      "text/plain": [
       "5×5 Matrix{Float64}:\n",
       " 2.0  3.0  4.0  5.0   6.0\n",
       " 3.0  4.0  5.0  6.0   7.0\n",
       " 4.0  5.0  6.0  7.0   8.0\n",
       " 5.0  6.0  7.0  8.0   9.0\n",
       " 6.0  7.0  8.0  9.0  10.0"
      ]
     },
     "execution_count": 32,
     "metadata": {},
     "output_type": "execute_result"
    }
   ],
   "source": [
    "for i in 1:m,j in 1:n\n",
    "    A[i,j] = i+j\n",
    "end\n",
    "A"
   ]
  },
  {
   "cell_type": "markdown",
   "id": "d0e2401e",
   "metadata": {},
   "source": [
    "The Julia way"
   ]
  },
  {
   "cell_type": "code",
   "execution_count": 33,
   "id": "6b36b611",
   "metadata": {},
   "outputs": [
    {
     "data": {
      "text/plain": [
       "5×5 Matrix{Int64}:\n",
       " 2  3  4  5   6\n",
       " 3  4  5  6   7\n",
       " 4  5  6  7   8\n",
       " 5  6  7  8   9\n",
       " 6  7  8  9  10"
      ]
     },
     "execution_count": 33,
     "metadata": {},
     "output_type": "execute_result"
    }
   ],
   "source": [
    "C = [i+j for i in 1:m, j in 1:n]"
   ]
  },
  {
   "cell_type": "markdown",
   "id": "4a36d778",
   "metadata": {},
   "source": [
    "Conditionals"
   ]
  },
  {
   "cell_type": "raw",
   "id": "b8e56a57",
   "metadata": {},
   "source": [
    "if *condition 1*\n",
    "    *option 1*\n",
    "elseif *condition 2*\n",
    "    *option 2*\n",
    "else *condition 3*\n",
    "    *option 3*\n",
    "end"
   ]
  },
  {
   "cell_type": "markdown",
   "id": "6e70469c",
   "metadata": {},
   "source": [
    "The julia way"
   ]
  },
  {
   "cell_type": "code",
   "execution_count": 37,
   "id": "3c156fd3",
   "metadata": {},
   "outputs": [
    {
     "data": {
      "text/plain": [
       "90"
      ]
     },
     "execution_count": 37,
     "metadata": {},
     "output_type": "execute_result"
    }
   ],
   "source": [
    "x = 90\n",
    "y = 60\n",
    "\n",
    "(x>y) ? x : y"
   ]
  },
  {
   "cell_type": "markdown",
   "id": "a6651416",
   "metadata": {},
   "source": [
    "Shortcuts"
   ]
  },
  {
   "cell_type": "code",
   "execution_count": 38,
   "id": "fdbc9eba",
   "metadata": {},
   "outputs": [
    {
     "data": {
      "text/plain": [
       "\"90 is greater than 60\""
      ]
     },
     "execution_count": 38,
     "metadata": {},
     "output_type": "execute_result"
    }
   ],
   "source": [
    "(x>y) && (\"$x is greater than $y\")"
   ]
  },
  {
   "cell_type": "code",
   "execution_count": 40,
   "id": "2e5a13a8",
   "metadata": {},
   "outputs": [
    {
     "data": {
      "text/plain": [
       "false"
      ]
     },
     "execution_count": 40,
     "metadata": {},
     "output_type": "execute_result"
    }
   ],
   "source": [
    "(x<y) && (\"$x is lesser than $y\")"
   ]
  },
  {
   "cell_type": "markdown",
   "id": "4f155e66",
   "metadata": {},
   "source": [
    "Functions"
   ]
  },
  {
   "cell_type": "markdown",
   "id": "2bcfbcf2",
   "metadata": {},
   "source": [
    "How to declare a function ?"
   ]
  },
  {
   "cell_type": "code",
   "execution_count": 41,
   "id": "9d1ba8e4",
   "metadata": {},
   "outputs": [
    {
     "data": {
      "text/plain": [
       "sayhi (generic function with 1 method)"
      ]
     },
     "execution_count": 41,
     "metadata": {},
     "output_type": "execute_result"
    }
   ],
   "source": [
    "function sayhi(name)\n",
    "    println(\"Hi $name\")\n",
    "end"
   ]
  },
  {
   "cell_type": "code",
   "execution_count": 43,
   "id": "f073edd6",
   "metadata": {},
   "outputs": [
    {
     "name": "stdout",
     "output_type": "stream",
     "text": [
      "Hi Julia"
     ]
    }
   ],
   "source": [
    "sayhi(\"Julia\")"
   ]
  },
  {
   "cell_type": "code",
   "execution_count": 44,
   "id": "d6e8989f",
   "metadata": {},
   "outputs": [
    {
     "name": "stdout",
     "output_type": "stream",
     "text": [
      "Hi Sheru\n"
     ]
    }
   ],
   "source": [
    "sayhi(name) = println(\"Hi $name\")\n",
    "sayhi(\"Sheru\")"
   ]
  },
  {
   "cell_type": "code",
   "execution_count": 46,
   "id": "7958e3f4",
   "metadata": {},
   "outputs": [
    {
     "name": "stdout",
     "output_type": "stream",
     "text": [
      "Hi Sheru ki Mumma\n"
     ]
    }
   ],
   "source": [
    "sayhi3 = name -> println(\"Hi $name\")\n",
    "sayhi3(\"Sheru ki Mumma\")"
   ]
  },
  {
   "cell_type": "markdown",
   "id": "481bb42a",
   "metadata": {},
   "source": [
    "Duck typing in Julia"
   ]
  },
  {
   "cell_type": "code",
   "execution_count": null,
   "id": "c88563e8",
   "metadata": {},
   "outputs": [],
   "source": []
  }
 ],
 "metadata": {
  "kernelspec": {
   "display_name": "Julia 1.7.0",
   "language": "julia",
   "name": "julia-1.7"
  },
  "language_info": {
   "file_extension": ".jl",
   "mimetype": "application/julia",
   "name": "julia",
   "version": "1.7.0"
  }
 },
 "nbformat": 4,
 "nbformat_minor": 5
}
